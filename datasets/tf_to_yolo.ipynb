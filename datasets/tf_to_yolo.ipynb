{
 "cells": [
  {
   "cell_type": "code",
   "execution_count": 1,
   "metadata": {},
   "outputs": [],
   "source": [
    "import os\n",
    "import argparse\n",
    "import tensorflow as tf\n",
    "tf.enable_eager_execution()"
   ]
  },
  {
   "cell_type": "code",
   "execution_count": 2,
   "metadata": {},
   "outputs": [],
   "source": [
    "train_record_file = \"/home/maoransu/SSD_Mobile/models/research/object_detection/datasets/CURB_TF/curb_train.record\"\n",
    "val_record_file = \"/home/maoransu/SSD_Mobile/models/research/object_detection/datasets/CURB_TF/curb_val.record\"\n",
    "save_path = '/home/maoransu/yolo/darknet/build/darknet/x64/data/curb'"
   ]
  },
  {
   "cell_type": "code",
   "execution_count": 3,
   "metadata": {},
   "outputs": [],
   "source": [
    "def parse_func(serialized_example):\n",
    "    features = tf.io.parse_single_example(serialized_example,\n",
    "                                       features={\n",
    "                        'image/height': tf.io.FixedLenFeature([], tf.int64),\n",
    "                        'image/width': tf.io.FixedLenFeature([], tf.int64),\n",
    "                        'image/encoded': tf.io.FixedLenFeature([], tf.string),\n",
    "                        'image/format': tf.io.FixedLenFeature([], tf.string),\n",
    "                        'image/object/bbox/xmin': tf.io.VarLenFeature(tf.float32),\n",
    "                        'image/object/bbox/xmax': tf.io.VarLenFeature(tf.float32),\n",
    "                        'image/object/bbox/ymin': tf.io.VarLenFeature(tf.float32),\n",
    "                        'image/object/bbox/ymax': tf.io.VarLenFeature(tf.float32),\n",
    "                        'image/object/class/text': tf.io.VarLenFeature(tf.string),\n",
    "                        'image/object/class/label': tf.io.VarLenFeature(tf.int64)\n",
    "    })\n",
    "    image = features['image/encoded']\n",
    "    image_format = features['image/format']\n",
    "    height = tf.cast(features['image/height'], tf.int32)\n",
    "    width = tf.cast(features['image/height'], tf.int32)\n",
    "    xmin = tf.sparse.to_dense(features['image/object/bbox/xmin'])\n",
    "    xmax = tf.sparse.to_dense(features['image/object/bbox/xmax'])\n",
    "    ymin = tf.sparse.to_dense(features['image/object/bbox/ymin'])\n",
    "    ymax = tf.sparse.to_dense(features['image/object/bbox/ymax'])\n",
    "    label = tf.sparse.to_dense(features['image/object/class/label'])\n",
    "    return image, image_format, height, width, xmin, xmax, ymin, ymax, label"
   ]
  },
  {
   "cell_type": "code",
   "execution_count": 4,
   "metadata": {},
   "outputs": [],
   "source": [
    "def convert(record_path, subset, save_path):\n",
    "    '''\n",
    "    record_path: path to tfrecord file to be converted\n",
    "    subset: train or val\n",
    "    save_path: folder to save the images and txt\n",
    "    '''\n",
    "    dataset = tf.data.TFRecordDataset([record_path])\n",
    "    dataset = dataset.map(parse_func)\n",
    "    iterator = dataset.__iter__()\n",
    "    \n",
    "    subset_list = []\n",
    "    \n",
    "    for idx, sample in enumerate(iterator):\n",
    "        (image, image_format, height, width,\n",
    "                 xmin, xmax, ymin, ymax, label) = sample\n",
    "        with open('{0}/{1}_{2}.jpg'.format(save_path, subset, idx), 'wb') as f:\n",
    "            f.write(image.numpy())\n",
    "\n",
    "        with open('{0}/{1}_{2}.txt'.format(save_path, subset, idx), 'w') as f:\n",
    "            for x1, x2, y1, y2, l in zip(xmin, xmax, ymin, ymax, label):\n",
    "                print('{} {} {} {} {}'.format(l-1, (x1+x2)/2,\n",
    "                                              (y1+y2)/2, (x2-x1),\n",
    "                                              (y2-y1)), file=f)\n",
    "        subset_list.append('data/curb/{}_{}.jpg'.format(subset, idx))\n",
    "\n",
    "    with open('{0}/../{1}.txt'.format(save_path, subset), 'w') as f:\n",
    "        for name in subset_list:\n",
    "            f.write(name+'\\n')\n",
    "            "
   ]
  },
  {
   "cell_type": "code",
   "execution_count": 5,
   "metadata": {},
   "outputs": [],
   "source": [
    "convert(train_record_file, 'train', save_path)\n",
    "convert(val_record_file, 'val', save_path)"
   ]
  },
  {
   "cell_type": "code",
   "execution_count": 35,
   "metadata": {},
   "outputs": [],
   "source": [
    "dataset = tf.data.TFRecordDataset([val_record_file])\n",
    "dataset = dataset.map(parse_func)\n",
    "iterator = dataset.__iter__()\n",
    "next_element = next(iterator)"
   ]
  },
  {
   "cell_type": "code",
   "execution_count": 6,
   "metadata": {},
   "outputs": [],
   "source": [
    "(image, image_format, height, width,\n",
    "             xmin, xmax, ymin, ymax, label) = next_element"
   ]
  },
  {
   "cell_type": "code",
   "execution_count": 36,
   "metadata": {},
   "outputs": [
    {
     "data": {
      "text/plain": [
       "251"
      ]
     },
     "execution_count": 36,
     "metadata": {},
     "output_type": "execute_result"
    }
   ],
   "source": [
    "sum(1 for _ in iterator)"
   ]
  },
  {
   "cell_type": "code",
   "execution_count": 20,
   "metadata": {},
   "outputs": [],
   "source": [
    "with open('train_0.jpg', 'wb') as f:\n",
    "    f.write(image.numpy())"
   ]
  },
  {
   "cell_type": "code",
   "execution_count": null,
   "metadata": {},
   "outputs": [],
   "source": []
  }
 ],
 "metadata": {
  "kernelspec": {
   "display_name": "Python 3",
   "language": "python",
   "name": "python3"
  },
  "language_info": {
   "codemirror_mode": {
    "name": "ipython",
    "version": 3
   },
   "file_extension": ".py",
   "mimetype": "text/x-python",
   "name": "python",
   "nbconvert_exporter": "python",
   "pygments_lexer": "ipython3",
   "version": "3.7.9"
  }
 },
 "nbformat": 4,
 "nbformat_minor": 4
}
